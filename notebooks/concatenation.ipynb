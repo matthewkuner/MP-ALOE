{
 "cells": [
  {
   "cell_type": "markdown",
   "id": "0",
   "metadata": {},
   "source": [
    "This tool is written using only standard python libraries. To manipulate the structure objects included here, you will need the `pymatgen` python package. You can substantially speed up the operations performed here by also installing better json libraries like `ujson` or `orjson`."
   ]
  },
  {
   "cell_type": "code",
   "execution_count": null,
   "id": "1",
   "metadata": {},
   "outputs": [],
   "source": [
    "import requests\n",
    "import gzip\n",
    "import json"
   ]
  },
  {
   "cell_type": "markdown",
   "id": "2",
   "metadata": {},
   "source": [
    "The first step is to download the datasets, which are hosted on FigShare for MP-ALOE, and Amazon S3 OpenData for MatPES."
   ]
  },
  {
   "cell_type": "code",
   "execution_count": null,
   "id": "3",
   "metadata": {},
   "outputs": [],
   "source": [
    "for dataset_file, url in {\n",
    "    \"MP-ALOE-2025.jsonl.gz\": \"https://figshare.com/ndownloader/files/55909331\",\n",
    "    \"MatPES-R2SCAN-2025.1.json.gz\": \"https://s3.us-east-1.amazonaws.com/materialsproject-contribs/MatPES_2025_1/MatPES-R2SCAN-2025.1.json.gz\",\n",
    "}.items():\n",
    "    resp = requests.get(url)\n",
    "    if resp.status_code != 200:\n",
    "        raise ValueError(\n",
    "            \"Unable to request resource at this time, please try again shortly.\"\n",
    "        )\n",
    "    with open(dataset_file, \"wb\") as f:\n",
    "        f.write(resp.content)"
   ]
  },
  {
   "cell_type": "markdown",
   "id": "4",
   "metadata": {},
   "source": [
    "We then load the MatPES dataset first, to allow us to determine which MP materials are included in the dataset."
   ]
  },
  {
   "cell_type": "code",
   "execution_count": null,
   "id": "5",
   "metadata": {},
   "outputs": [],
   "source": [
    "with gzip.open(\"MatPES-R2SCAN-2025.1.json.gz\", \"rt\") as f:\n",
    "    matpes_r2scan = json.load(f)"
   ]
  },
  {
   "cell_type": "code",
   "execution_count": null,
   "id": "6",
   "metadata": {},
   "outputs": [],
   "source": [
    "matpes_mpids = {\n",
    "    matpes_doc[\"provenance\"][\"original_mp_id\"]\n",
    "    for matpes_doc in matpes_r2scan\n",
    "    if matpes_doc[\"provenance\"][\"original_mp_id\"]\n",
    "}"
   ]
  },
  {
   "cell_type": "markdown",
   "id": "7",
   "metadata": {},
   "source": [
    "We now load the MP-ALOE dataset, and only retain those structures which have an origin which does not belong to the MP structures in MatPES."
   ]
  },
  {
   "cell_type": "code",
   "execution_count": null,
   "id": "8",
   "metadata": {},
   "outputs": [],
   "source": [
    "mp_aloe = []\n",
    "with gzip.open(\"MP-ALOE-2025.jsonl.gz\", \"rt\") as f:\n",
    "    for line in f:\n",
    "        aloe_doc = json.loads(line)\n",
    "        if aloe_doc[\"provenance\"][\"original_mp_id\"] in matpes_mpids:\n",
    "            continue\n",
    "        mp_aloe.append(aloe_doc)"
   ]
  },
  {
   "cell_type": "markdown",
   "id": "9",
   "metadata": {},
   "source": [
    "We can now write the joint dataset to a gzipped JSON lines file."
   ]
  },
  {
   "cell_type": "code",
   "execution_count": null,
   "id": "10",
   "metadata": {},
   "outputs": [],
   "source": [
    "with gzip.open(\"MP-ALOE-MATPES-R2SCAN-2025.jsonl.gz\", \"wt\") as f:\n",
    "    for doc in matpes_r2scan + mp_aloe:\n",
    "        f.write(json.dumps(doc) + \"\\n\")"
   ]
  },
  {
   "cell_type": "markdown",
   "id": "11",
   "metadata": {},
   "source": [
    "To read in the dataset, you'll use pymatgen to parse the structures"
   ]
  },
  {
   "cell_type": "code",
   "execution_count": null,
   "id": "12",
   "metadata": {},
   "outputs": [],
   "source": [
    "from pymatgen.core import Structure\n",
    "\n",
    "combined_dataset = []\n",
    "with gzip.open(\"MP-ALOE-MATPES-R2SCAN-2025.jsonl.gz\", \"rt\") as f:\n",
    "    for line in f:\n",
    "        doc = json.loads(line)\n",
    "        doc[\"structure\"] = Structure.from_dict(doc[\"structure\"])\n",
    "        combined_dataset.append(doc)"
   ]
  },
  {
   "cell_type": "code",
   "execution_count": null,
   "id": "13",
   "metadata": {},
   "outputs": [],
   "source": [
    "len(combined_dataset)"
   ]
  }
 ],
 "metadata": {
  "language_info": {
   "codemirror_mode": {
    "name": "ipython",
    "version": 3
   },
   "file_extension": ".py",
   "mimetype": "text/x-python",
   "name": "python",
   "nbconvert_exporter": "python",
   "pygments_lexer": "ipython3",
   "version": "3.12.0"
  }
 },
 "nbformat": 4,
 "nbformat_minor": 5
}
